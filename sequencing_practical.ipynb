{
 "cells": [
  {
   "cell_type": "markdown",
   "id": "8627ab9e-2af2-431d-87ed-099b28a89400",
   "metadata": {
    "tags": []
   },
   "source": [
    "## 0. Set up"
   ]
  },
  {
   "cell_type": "code",
   "execution_count": 1,
   "id": "f30694af-95d1-4b3c-aec7-80ecbbd3b934",
   "metadata": {},
   "outputs": [
    {
     "ename": "ModuleNotFoundError",
     "evalue": "No module named 'pandas'",
     "output_type": "error",
     "traceback": [
      "\u001b[0;31m---------------------------------------------------------------------------\u001b[0m",
      "\u001b[0;31mModuleNotFoundError\u001b[0m                       Traceback (most recent call last)",
      "Input \u001b[0;32mIn [1]\u001b[0m, in \u001b[0;36m<cell line: 2>\u001b[0;34m()\u001b[0m\n\u001b[1;32m      1\u001b[0m \u001b[38;5;28;01mimport\u001b[39;00m \u001b[38;5;21;01mmatplotlib\u001b[39;00m\u001b[38;5;21;01m.\u001b[39;00m\u001b[38;5;21;01mpyplot\u001b[39;00m \u001b[38;5;28;01mas\u001b[39;00m \u001b[38;5;21;01mplt\u001b[39;00m\n\u001b[0;32m----> 2\u001b[0m \u001b[38;5;28;01mimport\u001b[39;00m \u001b[38;5;21;01mpandas\u001b[39;00m \u001b[38;5;28;01mas\u001b[39;00m \u001b[38;5;21;01mpd\u001b[39;00m\n",
      "\u001b[0;31mModuleNotFoundError\u001b[0m: No module named 'pandas'"
     ]
    }
   ],
   "source": [
    "import matplotlib.pyplot as plt\n",
    "# TODO: Include Pandas in image"
   ]
  },
  {
   "cell_type": "code",
   "execution_count": 1,
   "id": "b66b721f-7b2f-47c4-acaa-1fc7b5cddc53",
   "metadata": {},
   "outputs": [],
   "source": [
    "data_dir='/home/jovyan/data'"
   ]
  },
  {
   "cell_type": "markdown",
   "id": "752d0cfd-7ec0-4748-9a01-0a704dce071b",
   "metadata": {
    "tags": []
   },
   "source": [
    "## 1. QC of 1000G VCF"
   ]
  },
  {
   "cell_type": "markdown",
   "id": "42702c76-cdaa-4155-8ae5-44f64f2a661d",
   "metadata": {
    "jp-MarkdownHeadingCollapsed": true,
    "tags": []
   },
   "source": [
    "##### **(OPTIONAL)** Print fields from VCF"
   ]
  },
  {
   "cell_type": "code",
   "execution_count": null,
   "id": "0c3c7306-1585-403e-bc54-6a6caebfef1c",
   "metadata": {},
   "outputs": [],
   "source": [
    "%%bash -s \"$data_dir\"\n",
    "\n",
    "data_dir=$1\n",
    "\n",
    "bcftools view -h $data_dir/GWD_30x_calls.vcf.gz | grep \"^##.*INFO\\|^##FORMAT\"\n",
    "\n",
    "# NOTE\n",
    "# QUAL - Phred-scaled quality score for the assertion made in ALT. \n",
    "# See https://samtools.github.io/hts-specs/VCFv4.1.pdf"
   ]
  },
  {
   "cell_type": "markdown",
   "id": "558083e2-15a6-4710-ba2f-eaab2142704e",
   "metadata": {
    "tags": []
   },
   "source": [
    "#### 1.1 Extract fields from VCF, save as table"
   ]
  },
  {
   "cell_type": "code",
   "execution_count": 2,
   "id": "d66f665a-2d64-4b81-99ba-e4c67b333a31",
   "metadata": {},
   "outputs": [],
   "source": [
    "%%bash -s \"$data_dir\"\n",
    "\n",
    "data_dir=$1\n",
    "\n",
    "bcftools query -f '%POS\\t%DP\\t%QUAL\\t%VDB\\t%SGB\\t%RPB\\t%MQB\\t%MQSB\\t%BQB\\t%MQ0F\\t%AC\\t%AN\\t%MQ\\n' $data_dir/GWD_30x_calls.vcf.gz > $data_dir/GWD_30x_calls.variant_info.tsv"
   ]
  },
  {
   "cell_type": "markdown",
   "id": "3db54b9c-e2e1-429e-9753-1927cbbbb75a",
   "metadata": {
    "jp-MarkdownHeadingCollapsed": true,
    "tags": []
   },
   "source": [
    "#### 1.2 Plot fields"
   ]
  },
  {
   "cell_type": "code",
   "execution_count": null,
   "id": "55bc2497-42ba-44db-b45a-0a89a403179d",
   "metadata": {},
   "outputs": [],
   "source": [
    "info = pd.read_csv(\n",
    "    f'{data_dir}/GWD_30x_calls.variant_info.tsv', \n",
    "    sep='\\t', \n",
    "    names=['pos','dp','qual','vdb','sgb','rpb','mqb','mqsb','bqb','mq0f','ac', 'an','mq'],\n",
    "    na_values=['.']\n",
    ")"
   ]
  },
  {
   "cell_type": "code",
   "execution_count": null,
   "id": "7c4cf12e-c922-4257-83e8-9970e1d65b98",
   "metadata": {},
   "outputs": [],
   "source": [
    "field_title_dict = {\n",
    "    'dp': 'Raw read depth',\n",
    "    'qual': 'Phred-scaled quality score for the assertion made in ALT',\n",
    "    'vdb': 'Variant Distance Bias for filtering splice-site artefacts in RNA-seq data\\n(bigger is better)',\n",
    "    'rpb': 'Mann-Whitney U test of Read Position Bias\\n(bigger is better)',\n",
    "    'mqb': 'Mann-Whitney U test of Mapping Quality Bias\\n(bigger is better)',\n",
    "    'bqb': 'Mann-Whitney U test of Base Quality Bias\\n(bigger is better)',\n",
    "    'mqsb': 'Mann-Whitney U test of Mapping Quality vs Strand Bias\\n(bigger is better)',\n",
    "    'sgb': 'Segregation based metric',\n",
    "    'mq0f': 'Fraction of MQ0 reads\\n(smaller is better)',\n",
    "    'ac': 'Allele count in genotypes for each ALT allele, in the same order as listed',\n",
    "    'an': 'Total number of alleles in called genotypes',\n",
    "    'mq': 'Average mapping quality'\n",
    "}"
   ]
  },
  {
   "cell_type": "code",
   "execution_count": null,
   "id": "ec029dac-4541-41e7-85d3-a70f71cd87a3",
   "metadata": {},
   "outputs": [],
   "source": [
    "fig, axs = plt.subplots(figsize=(24,16), nrows=3, ncols=4)\n",
    "\n",
    "for i, f in enumerate(field_title_dict.keys()):\n",
    "    _ = axs[i//4,i%4].hist(info[f], 50)\n",
    "    _ = axs[i//4,i%4].set_xlabel(f.upper())\n",
    "    axs[i//4,i%4].set_title(f.upper())\n",
    "\n",
    "plt.tight_layout()\n",
    "\n",
    "plt.suptitle('Variant info: GWD_30x_calls.vcf.gz', size=15)\n",
    "plt.savefig('variant_info.png',dpi=300)"
   ]
  },
  {
   "cell_type": "markdown",
   "id": "6b56a929-1e9a-457e-ae26-efb00194b190",
   "metadata": {
    "tags": []
   },
   "source": [
    "#### 1.3 Set cutoffs"
   ]
  },
  {
   "cell_type": "code",
   "execution_count": 64,
   "id": "3661cf4b-4b77-4f30-b69b-8530302c6b18",
   "metadata": {},
   "outputs": [],
   "source": [
    "# include_variants_dict = {\n",
    "#     'dp': ('>', 1000), #'Raw read depth'\n",
    "#     'qual': ('>', 50), #'Phred-scaled quality score for the assertion made in ALT',\n",
    "#     'vdb': ('>', 1e-4), #'Variant Distance Bias for filtering splice-site artefacts in RNA-seq data\\n(bigger is better)',\n",
    "#     'rpb': ('>', 1e-5), # 'Mann-Whitney U test of Read Position Bias\\n(bigger is better)',\n",
    "#     'mqb': ('>', 1e-5), #'Mann-Whitney U test of Mapping Quality Bias\\n(bigger is better)',\n",
    "#     'bqb': ('>', 1e-5), #'Mann-Whitney U test of Base Quality Bias\\n(bigger is better)',\n",
    "#     'mqsb': ('>', 1e-8), #'Mann-Whitney U test of Mapping Quality vs Strand Bias\\n(bigger is better)',\n",
    "#     # NOT SURE WHICH WAY TO FILTER ON SGB\n",
    "#     'sgb': ('', None), #'Segregation based metric',\n",
    "#     'mq0f': ('<', 0.1), #'Fraction of MQ0 reads\\n(smaller is better)',\n",
    "#     'ac': ('', None), #'Allele count in genotypes for each ALT allele, in the same order as listed',\n",
    "#     'an': ('>', 300), #'Total number of alleles in called genotypes',\n",
    "#     'mq': ('>', 50)#'Average mapping quality'\n",
    "# }\n",
    "\n",
    "include_variants_dict = {\n",
    "    'dp': ('>', 1000), #'Raw read depth'\n",
    "    'qual': ('>', 50), #'Phred-scaled quality score for the assertion made in ALT',\n",
    "    'vdb': ('>', 1e-6), #'Variant Distance Bias for filtering splice-site artefacts in RNA-seq data\\n(bigger is better)',\n",
    "    'rpb': ('>', 1e-6), # 'Mann-Whitney U test of Read Position Bias\\n(bigger is better)',\n",
    "    'mqb': ('>', 1e-6), #'Mann-Whitney U test of Mapping Quality Bias\\n(bigger is better)',\n",
    "    'bqb': ('>', 1e-6), #'Mann-Whitney U test of Base Quality Bias\\n(bigger is better)',\n",
    "    'mqsb': ('>', 1e-9), #'Mann-Whitney U test of Mapping Quality vs Strand Bias\\n(bigger is better)',\n",
    "    # NOT SURE WHICH WAY TO FILTER ON SGB\n",
    "    'sgb': ('', None), #'Segregation based metric',\n",
    "    'mq0f': ('<', 0.1), #'Fraction of MQ0 reads\\n(smaller is better)',\n",
    "    'ac': ('', None), #'Allele count in genotypes for each ALT allele, in the same order as listed',\n",
    "    'an': ('>', 300), #'Total number of alleles in called genotypes',\n",
    "    'mq': ('>', 50)#'Average mapping quality'\n",
    "}\n",
    "\n",
    "# String containing all the filter logic to be used by bcftools\n",
    "logic = ' & '.join([f'{field.upper()}{equality}{threshold}' for field, (equality, threshold) in include_variants_dict.items() if threshold is not None])\n"
   ]
  },
  {
   "cell_type": "markdown",
   "id": "946baa67-e0c8-4d72-a009-c75974d0a186",
   "metadata": {
    "tags": []
   },
   "source": [
    "#### 1.4 Filter variants"
   ]
  },
  {
   "cell_type": "markdown",
   "id": "8d273019-212f-4274-80d2-e914c25db186",
   "metadata": {
    "jp-MarkdownHeadingCollapsed": true,
    "tags": []
   },
   "source": [
    "##### **(Optional)** Filter variants in the Pandas DataFrame"
   ]
  },
  {
   "cell_type": "code",
   "execution_count": null,
   "id": "1c7c0653-260a-4aa1-8f6e-3b7896286720",
   "metadata": {},
   "outputs": [],
   "source": [
    "for field, (equality, threshold) in include_variants_dict.items():\n",
    "    if threshold is not None:\n",
    "        if equality == '>':\n",
    "            info[f'fail_{field}'] = info[field]<=threshold\n",
    "        elif equality == '<':\n",
    "            info[f'fail_{field}'] = info[field]>=threshold\n",
    "            \n",
    "fail_columns = [c for c in info.columns if 'fail_' in c]"
   ]
  },
  {
   "cell_type": "markdown",
   "id": "cc394632-0283-41f3-9af2-adf18d78be72",
   "metadata": {},
   "source": [
    "Check if secretor status variant (chr19:48703417) passes QC in the sequencing data"
   ]
  },
  {
   "cell_type": "code",
   "execution_count": null,
   "id": "cef6ae57-53f6-448c-9bfc-aa547efa4a08",
   "metadata": {},
   "outputs": [],
   "source": [
    "secretor_position=48703417\n",
    "assert any(info.loc[info.pos==secretor_position, fail_columns]) is False    \n"
   ]
  },
  {
   "cell_type": "markdown",
   "id": "3e8a4de9-47f5-41ac-b80b-5c3941a3f815",
   "metadata": {},
   "source": [
    "##### 1.4.1 Filter VCF using set cutoffs"
   ]
  },
  {
   "cell_type": "markdown",
   "id": "d9d53b7f-f86f-4955-a620-ddaa1617d4b5",
   "metadata": {},
   "source": [
    "Set path to QCed VCF"
   ]
  },
  {
   "cell_type": "code",
   "execution_count": 57,
   "id": "5a0fca89-554f-4262-addb-9f86b752fd4b",
   "metadata": {},
   "outputs": [],
   "source": [
    "qced_vcf = f'{data_dir}/GWD_30x_calls.qced.vcf.gz'"
   ]
  },
  {
   "cell_type": "markdown",
   "id": "0a6461f0-1a41-43e7-bf2f-43cf48d00683",
   "metadata": {},
   "source": [
    "Use bcftools to filter and save to a new VCF"
   ]
  },
  {
   "cell_type": "code",
   "execution_count": 89,
   "id": "420bbae9-b74c-4cf2-92b5-5de5267866bc",
   "metadata": {},
   "outputs": [
    {
     "name": "stdout",
     "output_type": "stream",
     "text": [
      ">> Variant counts <<\n",
      "original 15683\n",
      "post-qc  10051\n",
      "removed  5632\n"
     ]
    }
   ],
   "source": [
    "%%bash -s \"$data_dir\" \"$logic\" \"$qced_vcf\"\n",
    "\n",
    "data_dir=$1\n",
    "logic=$2\n",
    "qced_vcf=$3\n",
    "\n",
    "seq_vcf=\"${data_dir}/GWD_30x_calls.vcf.gz\"\n",
    "\n",
    "original_ct=$( bcftools view -H -G ${seq_vcf} | wc -l )\n",
    "\n",
    "bcftools filter ${seq_vcf} \\\n",
    "  -Oz \\\n",
    "  -i \"${logic}\" \\\n",
    "  -o ${qced_vcf} \\\n",
    "&& filtered_ct=$( bcftools view -G -H ${qced_vcf} | wc -l ) \\\n",
    "|| ( echo \"Failed.\" && exit 1 )\n",
    "\n",
    "if [ $? == 0 ]; then\n",
    "    echo \">> Variant counts <<\"\n",
    "    echo -e \"original $original_ct\"\n",
    "    echo -e \"post-qc  $filtered_ct\"\n",
    "    echo -e \"removed  $(( original_ct - filtered_ct ))\"\n",
    "fi"
   ]
  },
  {
   "cell_type": "markdown",
   "id": "f24c4978-4b99-400d-9046-3cbaf3793a39",
   "metadata": {
    "jp-MarkdownHeadingCollapsed": true,
    "tags": []
   },
   "source": [
    "## 2. Phase 1000G VCF"
   ]
  },
  {
   "cell_type": "markdown",
   "id": "d39d3108-f1bb-4439-8075-bdc574c7b252",
   "metadata": {},
   "source": [
    "If needed, download genetic map from\n",
    "https://storage.googleapis.com/broad-alkesgroup-public/Eagle/downloads/tables/genetic_map_hg38_withX.txt.gz"
   ]
  },
  {
   "cell_type": "code",
   "execution_count": 80,
   "id": "52f2039e-9cfd-4d36-a075-2b2d9a618eb7",
   "metadata": {},
   "outputs": [],
   "source": [
    "%%bash -s \"$data_dir\"\n",
    "\n",
    "data_dir=$1\n",
    "\n",
    "if [ ! -f \"${data_dir}/genetic_map_hg38_withX.txt.gz\" ]; then\n",
    "    url=\"https://storage.googleapis.com/broad-alkesgroup-public/Eagle/downloads/tables/genetic_map_hg38_withX.txt.gz\"\n",
    "    wget ${url} \\\n",
    "      --directory-prefix ${data_dir} \\\n",
    "      --no-verbose\n",
    "fi"
   ]
  },
  {
   "cell_type": "markdown",
   "id": "6682526a-642a-4996-85b0-5e34a5e476c8",
   "metadata": {},
   "source": [
    "Split multiallelic sites before running Eagle"
   ]
  },
  {
   "cell_type": "code",
   "execution_count": 90,
   "id": "279ff2ea-fc9b-4f3b-a60b-9bd359e44e8f",
   "metadata": {},
   "outputs": [],
   "source": [
    "split_vcf=f'{data_dir}/GWD_30x_calls.split.vcf.gz'"
   ]
  },
  {
   "cell_type": "code",
   "execution_count": 94,
   "id": "9dc70c5c-07b4-40e2-9808-5c78e9fc723c",
   "metadata": {},
   "outputs": [
    {
     "name": "stderr",
     "output_type": "stream",
     "text": [
      "Lines   total/split/realigned/skipped:\t10051/42/0/0\n"
     ]
    }
   ],
   "source": [
    "%%bash -s \"$qced_vcf\" \"$split_vcf\"\n",
    "\n",
    "qced_vcf=$1\n",
    "split_vcf=$2\n",
    "\n",
    "bcftools norm -m - ${qced_vcf} \\\n",
    "  -Oz \\\n",
    "  -o ${split_vcf}"
   ]
  },
  {
   "cell_type": "code",
   "execution_count": 98,
   "id": "1168ac17-2443-4d5a-97ee-c3a6fa607b75",
   "metadata": {
    "scrolled": true,
    "tags": []
   },
   "outputs": [
    {
     "name": "stdout",
     "output_type": "stream",
     "text": [
      "                      +-----------------------------+\n",
      "                      |                             |\n",
      "                      |   Eagle v2.3.5              |\n",
      "                      |   August 2, 2017            |\n",
      "                      |   Po-Ru Loh                 |\n",
      "                      |                             |\n",
      "                      +-----------------------------+\n",
      "\n",
      "Copyright (C) 2015-2016 Harvard University.\n",
      "Distributed under the GNU GPLv3+ open source license.\n",
      "\n",
      "Command line options:\n",
      "\n",
      "eagle \\\n",
      "    --geneticMapFile /home/jovyan/data/genetic_map_hg38_withX.txt.gz \\\n",
      "    --vcf /home/jovyan/data/GWD_30x_calls.split.vcf.gz \\\n",
      "    --numThreads 5 \\\n",
      "    --outPrefix /home/jovyan/data/GWD_30x_calls.qced.phased \n",
      "\n",
      "Setting number of threads to 5\n",
      "\n",
      "=== Reading genotype data ===\n",
      "\n",
      "Reading genotypes for N = 164 samples\n",
      "Read M = 10093 variants\n",
      "Filling in genetic map coordinates using reference file:\n",
      "  /home/jovyan/data/genetic_map_hg38_withX.txt.gz\n",
      "Physical distance range: 1109949 base pairs\n",
      "Genetic distance range:  2.3435 cM\n",
      "Average # SNPs per cM:   4307\n",
      "Auto-selecting --maxBlockLen: 0.25 cM\n",
      "Number of <=(64-SNP, 0.25cM) segments: 158\n",
      "Average # SNPs per segment: 63\n",
      "Fraction of heterozygous genotypes: 0.127332\n",
      "Typical span of default 100-het history length: 0.18 cM\n",
      "Setting --histFactor=5.48\n",
      "Typical span of 548-het history length: 1.00 cM\n",
      "\n",
      "SKIPPED STEP 1\n",
      "\n",
      "SKIPPED STEP 2\n",
      "\n",
      "\n",
      "BEGINNING STEP 3 (PBWT ITERS)\n",
      "\n",
      "Auto-selecting number of PBWT iterations: setting --pbwtIters to 3\n",
      "\n",
      "\n",
      "BEGINNING PBWT ITER 1\n",
      "\n",
      "BATCH 1 OF 10\n",
      "\n",
      "Phasing samples 1-16\n",
      "Time for phasing batch: 0.740954\n",
      "\n",
      "BATCH 2 OF 10\n",
      "\n",
      "Phasing samples 17-32\n",
      "Time for phasing batch: 0.618617\n",
      "\n",
      "BATCH 3 OF 10\n",
      "\n",
      "Phasing samples 33-49\n",
      "Time for phasing batch: 0.670267\n",
      "\n",
      "BATCH 4 OF 10\n",
      "\n",
      "Phasing samples 50-65\n",
      "Time for phasing batch: 0.586377\n",
      "\n",
      "BATCH 5 OF 10\n",
      "\n",
      "Phasing samples 66-82\n",
      "Time for phasing batch: 0.594641\n",
      "\n",
      "BATCH 6 OF 10\n",
      "\n",
      "Phasing samples 83-98\n",
      "Time for phasing batch: 0.545031\n",
      "\n",
      "BATCH 7 OF 10\n",
      "\n",
      "Phasing samples 99-114\n",
      "Time for phasing batch: 0.593662\n",
      "\n",
      "BATCH 8 OF 10\n",
      "\n",
      "Phasing samples 115-131\n",
      "Time for phasing batch: 0.54323\n",
      "\n",
      "BATCH 9 OF 10\n",
      "\n",
      "Phasing samples 132-147\n",
      "Time for phasing batch: 0.576349\n",
      "\n",
      "BATCH 10 OF 10\n",
      "\n",
      "Phasing samples 148-164\n",
      "Time for phasing batch: 0.557854\n",
      "\n",
      "Time for PBWT iter 1: 6.02702\n",
      "\n",
      "BEGINNING PBWT ITER 2\n",
      "\n",
      "BATCH 1 OF 10\n",
      "\n",
      "Phasing samples 1-16\n",
      "Time for phasing batch: 0.502635\n",
      "\n",
      "BATCH 2 OF 10\n",
      "\n",
      "Phasing samples 17-32\n",
      "Time for phasing batch: 0.437939\n",
      "\n",
      "BATCH 3 OF 10\n",
      "\n",
      "Phasing samples 33-49\n",
      "Time for phasing batch: 0.492519\n",
      "\n",
      "BATCH 4 OF 10\n",
      "\n",
      "Phasing samples 50-65\n",
      "Time for phasing batch: 0.467662\n",
      "\n",
      "BATCH 5 OF 10\n",
      "\n",
      "Phasing samples 66-82\n",
      "Time for phasing batch: 0.480705\n",
      "\n",
      "BATCH 6 OF 10\n",
      "\n",
      "Phasing samples 83-98\n",
      "Time for phasing batch: 0.479763\n",
      "\n",
      "BATCH 7 OF 10\n",
      "\n",
      "Phasing samples 99-114\n",
      "Time for phasing batch: 0.519879\n",
      "\n",
      "BATCH 8 OF 10\n",
      "\n",
      "Phasing samples 115-131\n",
      "Time for phasing batch: 0.479374\n",
      "\n",
      "BATCH 9 OF 10\n",
      "\n",
      "Phasing samples 132-147\n",
      "Time for phasing batch: 0.454203\n",
      "\n",
      "BATCH 10 OF 10\n",
      "\n",
      "Phasing samples 148-164\n",
      "Time for phasing batch: 0.432004\n",
      "\n",
      "Time for PBWT iter 2: 4.74673\n",
      "\n",
      "BEGINNING PBWT ITER 3\n",
      "\n",
      "BATCH 1 OF 10\n",
      "\n",
      "Phasing samples 1-16\n",
      "Time for phasing batch: 0.638127\n",
      "\n",
      "BATCH 2 OF 10\n",
      "\n",
      "Phasing samples 17-32\n",
      "Time for phasing batch: 0.584455\n",
      "\n",
      "BATCH 3 OF 10\n",
      "\n",
      "Phasing samples 33-49\n",
      "Time for phasing batch: 0.615574\n",
      "\n",
      "BATCH 4 OF 10\n",
      "\n",
      "Phasing samples 50-65\n",
      "Time for phasing batch: 0.595297\n",
      "\n",
      "BATCH 5 OF 10\n",
      "\n",
      "Phasing samples 66-82\n",
      "Time for phasing batch: 0.568677\n",
      "\n",
      "BATCH 6 OF 10\n",
      "\n",
      "Phasing samples 83-98\n",
      "Time for phasing batch: 0.603599\n",
      "\n",
      "BATCH 7 OF 10\n",
      "\n",
      "Phasing samples 99-114\n",
      "Time for phasing batch: 0.698714\n",
      "\n",
      "BATCH 8 OF 10\n",
      "\n",
      "Phasing samples 115-131\n",
      "Time for phasing batch: 0.550938\n",
      "\n",
      "BATCH 9 OF 10\n",
      "\n",
      "Phasing samples 132-147\n",
      "Time for phasing batch: 0.631509\n",
      "\n",
      "BATCH 10 OF 10\n",
      "\n",
      "Phasing samples 148-164\n",
      "Time for phasing batch: 0.615628\n",
      "\n",
      "Time for PBWT iter 3: 6.10256\n",
      "Writing vcf.gz output to /home/jovyan/data/GWD_30x_calls.qced.phased.vcf.gz\n",
      "Time for writing output: 1.42767\n",
      "Total elapsed time for analysis = 24.5759 sec\n"
     ]
    }
   ],
   "source": [
    "%%bash -s \"$data_dir\" \"$split_vcf\"\n",
    "\n",
    "data_dir=$1\n",
    "split_vcf=$2\n",
    "\n",
    "geneticMapFile=\"${data_dir}/genetic_map_hg38_withX.txt.gz\"\n",
    "out=\"${data_dir}/GWD_30x_calls.qced.phased\"\n",
    "\n",
    "eagle \\\n",
    "  --geneticMapFile ${geneticMapFile} \\\n",
    "  --vcf ${split_vcf} \\\n",
    "  --numThreads 5 \\\n",
    "  --outPrefix ${out} \n",
    "  "
   ]
  },
  {
   "cell_type": "markdown",
   "id": "2b398792-7c25-458a-b8aa-303241338e10",
   "metadata": {},
   "source": [
    "Check genotypes (first 20 variants in first 3 samples) to see how phasing changes VCFs"
   ]
  },
  {
   "cell_type": "code",
   "execution_count": 110,
   "id": "2f9e8589-8304-4868-9fc7-ec1d1a3142d4",
   "metadata": {},
   "outputs": [
    {
     "name": "stdout",
     "output_type": "stream",
     "text": [
      "1/1:255,111,0\t1/1:255,108,0\t1/1:255,105,0\n",
      "0/0:0,99,255\t0/0:0,102,255\t0/0:0,111,255\n",
      "0/0:0,108,255\t0/0:0,117,255\t0/0:0,102,255\n",
      "0/0:0,102,255\t0/0:0,99,255\t0/0:0,96,255\n",
      "0/0:0,114,255\t0/0:0,87,255\t0/0:0,111,255\n",
      "0/0:0,120,255\t0/0:0,99,255\t0/0:0,93,255\n",
      "0/0:0,120,255\t0/1:181,0,250\t0/0:0,117,255\n",
      "0/0:0,75,255\t0/0:0,123,255\t0/0:0,120,255\n",
      "0/0:0,93,255\t0/0:0,108,255\t0/0:0,141,255\n",
      "0/0:0,84,255\t0/0:0,93,255\t0/0:0,102,255\n",
      "0/0:0,114,255\t0/1:219,0,239\t0/0:0,111,255\n",
      "0/1:254,0,203\t0/0:0,154,255\t0/0:0,111,255\n",
      "0/0:0,108,255\t0/0:0,151,255\t0/0:0,111,255\n",
      "1/1:255,81,0\t0/1:243,0,183\t1/1:255,102,0\n",
      "1/1:255,99,0\t0/0:0,138,255\t0/1:255,0,221\n",
      "0/0:0,105,255\t0/0:0,141,255\t0/0:0,141,255\n",
      "0/0:0,96,255\t0/0:0,111,255\t0/0:0,105,255\n",
      "0/0:0,87,255\t0/0:0,111,255\t0/0:0,111,255\n",
      "0/0:0,84,255\t0/1:255,0,187\t0/0:0,114,255\n",
      "1/1:255,99,0\t0/1:158,0,255\t1/1:255,126,0\n",
      "[main_vcfview] Error: cannot write to (null)\n"
     ]
    }
   ],
   "source": [
    "!bcftools view -H /home/jovyan/data/GWD_30x_calls.qced.vcf.gz | head -20 | cut -f 10-12"
   ]
  },
  {
   "cell_type": "code",
   "execution_count": 109,
   "id": "81641eda-b694-4f65-9f16-6912614ec2cd",
   "metadata": {},
   "outputs": [
    {
     "name": "stdout",
     "output_type": "stream",
     "text": [
      "1|1:255,111,0\t1|1:255,108,0\t1|1:255,105,0\n",
      "0|0:0,99,255\t0|0:0,102,255\t0|0:0,111,255\n",
      "0|0:0,108,255\t0|0:0,117,255\t0|0:0,102,255\n",
      "0|0:0,102,255\t0|0:0,99,255\t0|0:0,96,255\n",
      "0|0:0,114,255\t0|0:0,87,255\t0|0:0,111,255\n",
      "0|0:0,120,255\t0|0:0,99,255\t0|0:0,93,255\n",
      "0|0:0,120,255\t1|0:181,0,250\t0|0:0,117,255\n",
      "0|0:0,75,255\t0|0:0,123,255\t0|0:0,120,255\n",
      "0|0:0,93,255\t0|0:0,108,255\t0|0:0,141,255\n",
      "0|0:0,84,255\t0|0:0,93,255\t0|0:0,102,255\n",
      "0|0:0,114,255\t1|0:219,0,239\t0|0:0,111,255\n",
      "1|0:254,0,203\t0|0:0,154,255\t0|0:0,111,255\n",
      "0|0:0,108,255\t0|0:0,151,255\t0|0:0,111,255\n",
      "1|1:255,81,0\t0|1:243,0,183\t1|1:255,102,0\n",
      "1|1:255,99,0\t0|0:0,138,255\t1|0:255,0,221\n",
      "0|0:0,105,255\t0|0:0,141,255\t0|0:0,141,255\n",
      "0|0:0,96,255\t0|0:0,111,255\t0|0:0,105,255\n",
      "0|0:0,87,255\t0|0:0,111,255\t0|0:0,111,255\n",
      "0|0:0,84,255\t1|0:255,0,187\t0|0:0,114,255\n",
      "1|1:255,99,0\t0|1:158,0,255\t1|1:255,126,0\n",
      "[main_vcfview] Error: cannot write to (null)\n"
     ]
    }
   ],
   "source": [
    "!bcftools view -H /home/jovyan/data/GWD_30x_calls.qced.phased.vcf.gz | head -20 | cut -f 10-12\n"
   ]
  },
  {
   "cell_type": "markdown",
   "id": "7f91fa18-eb2d-4262-8f9d-dec824ce2b4b",
   "metadata": {},
   "source": [
    "## 3. QC GGVP VCF"
   ]
  },
  {
   "cell_type": "markdown",
   "id": "9c38f6b7-3aa7-46ee-8bb2-29eabec14cf5",
   "metadata": {},
   "source": [
    "## 4. Phase GGVP VCF"
   ]
  },
  {
   "cell_type": "markdown",
   "id": "0aa30ccf-d0da-41b6-81bb-25b86bc862b5",
   "metadata": {},
   "source": [
    "## 5. Impute GGVP VCF"
   ]
  },
  {
   "cell_type": "code",
   "execution_count": null,
   "id": "96d9cf67-cdba-40ba-82dd-d6a7f7b32693",
   "metadata": {},
   "outputs": [],
   "source": []
  }
 ],
 "metadata": {
  "kernelspec": {
   "display_name": "Python 3 (ipykernel)",
   "language": "python",
   "name": "python3"
  },
  "language_info": {
   "codemirror_mode": {
    "name": "ipython",
    "version": 3
   },
   "file_extension": ".py",
   "mimetype": "text/x-python",
   "name": "python",
   "nbconvert_exporter": "python",
   "pygments_lexer": "ipython3",
   "version": "3.10.4"
  }
 },
 "nbformat": 4,
 "nbformat_minor": 5
}
